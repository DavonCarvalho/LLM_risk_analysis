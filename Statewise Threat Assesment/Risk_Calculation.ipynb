{
  "nbformat": 4,
  "nbformat_minor": 0,
  "metadata": {
    "colab": {
      "provenance": []
    },
    "kernelspec": {
      "name": "python3",
      "display_name": "Python 3"
    },
    "language_info": {
      "name": "python"
    }
  },
  "cells": [
    {
      "cell_type": "code",
      "execution_count": null,
      "metadata": {
        "id": "FkrsL6bwSnYK"
      },
      "outputs": [],
      "source": [
        "import pandas as pd\n",
        "\n",
        "# Load the data\n",
        "data_path = '/path_to_your_data/public_data.csv'\n",
        "data = pd.read_csv(data_path)\n",
        "naics_data_path = '/path_to_your_data/aggregated_firm_sizes.xlsx'\n",
        "naics_data = pd.read_excel(naics_data_path)\n",
        "\n",
        "# Clean the state names in both datasets\n",
        "data['victim.state'] = data['victim.state'].str.upper().replace(r'^US-', '', regex=True)\n",
        "naics_data['StateName'] = naics_data['StateName'].replace({\n",
        "    'Alabama': 'AL', 'Alaska': 'AK', ...  # Full mapping of states\n",
        "})\n",
        "\n",
        "# Calculate the total incidents and total firms\n",
        "total_incidents = data['victim.state'].value_counts().sum()\n",
        "total_firms = naics_data['Firms'].sum()\n",
        "\n",
        "# Prepare the Risk Factors DataFrame\n",
        "risk_factors = pd.DataFrame(data['victim.state'].value_counts()).reset_index()\n",
        "risk_factors.columns = ['State', 'Number of Incidents']\n",
        "risk_factors = risk_factors.merge(naics_data, left_on='State', right_on='StateName', how='left')\n",
        "\n",
        "# Calculate Risk Factor with a Weighting Factor of 1\n",
        "risk_factors['Risk Factor'] = (risk_factors['Number of Incidents'] / total_incidents) * \\\n",
        "                              (risk_factors['Firms'] / total_firms) * 1  # Assuming weighting factor as 1 for all\n",
        "\n",
        "# Normalize the Risk Factor to be between 1 and 100\n",
        "max_risk_factor = risk_factors['Risk Factor'].max()\n",
        "risk_factors['Normalized Risk Factor'] = (risk_factors['Risk Factor'] / max_risk_factor) * 100\n",
        "risk_factors['Normalized Risk Factor'] = risk_factors['Normalized Risk Factor'].clip(lower=1)\n",
        "\n",
        "# Save the DataFrame to an Excel file\n",
        "output_excel_path = '/path_to_your_data/public_normalized_risks.xlsx'\n",
        "risk_factors.to_excel(output_excel_path, index=False)\n"
      ]
    }
  ]
}